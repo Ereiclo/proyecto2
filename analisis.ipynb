{
 "cells": [
  {
   "cell_type": "code",
   "execution_count": 83,
   "metadata": {},
   "outputs": [],
   "source": [
    "from glob import glob\n",
    "import pandas as pd\n",
    "import matplotlib.pyplot as plt\n",
    "import numpy as np\n",
    "from os import path"
   ]
  },
  {
   "attachments": {},
   "cell_type": "markdown",
   "metadata": {},
   "source": [
    "# Cargar rutas"
   ]
  },
  {
   "cell_type": "code",
   "execution_count": 7,
   "metadata": {},
   "outputs": [],
   "source": [
    "rutas = {\n",
    "    'k_medias': glob(\"resultados_experimentos/k_medias/*\"),\n",
    "    'gmm': glob(\"resultados_experimentos/gmm/*\"),\n",
    "    'dbscan':glob(\"resultados_experimentos/dbscan/*\")\n",
    "    }"
   ]
  },
  {
   "attachments": {},
   "cell_type": "markdown",
   "metadata": {},
   "source": [
    "# Graficos"
   ]
  },
  {
   "cell_type": "code",
   "execution_count": 92,
   "metadata": {},
   "outputs": [],
   "source": [
    "class Graficos_DBSCAN:\n",
    "    def multigrafo(ruta):\n",
    "        df = pd.read_csv(ruta)\n",
    "        x =  df['radio'].unique()\n",
    "        y = df['min_vecinos'].unique()\n",
    "        X, Y = np.meshgrid(x, y)\n",
    "        nombre_z = df.columns.tolist()\n",
    "        nombre_z.remove('radio')\n",
    "        nombre_z.remove('min_vecinos')\n",
    "\n",
    "        Zs = {}\n",
    "        for nombre_z_i in nombre_z:\n",
    "            Zs[nombre_z_i] = df[nombre_z_i].to_numpy().reshape(y.size, x.size)\n",
    "\n",
    "        return X, Y, Zs\n",
    "\n",
    "    def graficar_resultados(self, ruta):\n",
    "        fig, ax = plt.subplots(2, 2, sharex='col', sharey='row')\n",
    "        ax = np.ravel(ax)\n",
    "        x, y, zs = self.multigrafo(ruta)\n",
    "        for ax_i, z in enumerate(zs):\n",
    "            ax[ax_i].contourf(x, y, zs[z] )\n",
    "            ax[ax_i].title.set_text(z)\n",
    "        ax = np.reshape(ax, (2,2))\n",
    "        fig.supxlabel(\"radio\")\n",
    "        fig.supylabel(\"numero minimo de puntos\")\n",
    "\n",
    "        fig.savefig(f'graficos_experimentos/dbscan/{path.splitext(path.basename(ruta))[0]}.png')\n",
    "        plt.close()\n",
    "\n",
    "for rutas_dbscan in rutas['dbscan']:\n",
    "    Graficos_DBSCAN.graficar_resultados(rutas_dbscan)"
   ]
  }
 ],
 "metadata": {
  "kernelspec": {
   "display_name": "Python 3",
   "language": "python",
   "name": "python3"
  },
  "language_info": {
   "codemirror_mode": {
    "name": "ipython",
    "version": 3
   },
   "file_extension": ".py",
   "mimetype": "text/x-python",
   "name": "python",
   "nbconvert_exporter": "python",
   "pygments_lexer": "ipython3",
   "version": "3.11.0"
  },
  "orig_nbformat": 4
 },
 "nbformat": 4,
 "nbformat_minor": 2
}
