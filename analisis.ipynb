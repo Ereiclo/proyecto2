{
 "cells": [
  {
   "cell_type": "code",
   "execution_count": 2,
   "metadata": {},
   "outputs": [],
   "source": [
    "from glob import glob\n",
    "import pandas as pd\n",
    "import matplotlib.pyplot as plt\n",
    "import numpy as np\n",
    "from os import path"
   ]
  },
  {
   "attachments": {},
   "cell_type": "markdown",
   "metadata": {},
   "source": [
    "# Cargar rutas"
   ]
  },
  {
   "cell_type": "code",
   "execution_count": 4,
   "metadata": {},
   "outputs": [],
   "source": [
    "rutas = {\n",
    "    'k_medias': glob(\"resultados_experimentos/k_medias/*\"),\n",
    "    'gmm': glob(\"resultados_experimentos/gmm/*\"),\n",
    "    'dbscan':glob(\"resultados_experimentos/dbscan/*\")\n",
    "    }"
   ]
  },
  {
   "attachments": {},
   "cell_type": "markdown",
   "metadata": {},
   "source": [
    "# Graficos"
   ]
  },
  {
   "cell_type": "code",
   "execution_count": 39,
   "metadata": {},
   "outputs": [],
   "source": [
    "class Graficos_DBSCAN:\n",
    "    def multigrafo(self, ruta):\n",
    "        df = pd.read_csv(ruta)\n",
    "        x =  df['radio'].unique()\n",
    "        y = df['min_vecinos'].unique()\n",
    "        X, Y = np.meshgrid(x, y)\n",
    "        nombre_z = df.columns.tolist()\n",
    "        nombre_z.remove('radio')\n",
    "        nombre_z.remove('min_vecinos')\n",
    "\n",
    "        Zs = {}\n",
    "        for nombre_z_i in nombre_z:\n",
    "            Zs[nombre_z_i] = df[nombre_z_i].to_numpy().reshape(y.size, x.size)\n",
    "\n",
    "        return X, Y, Zs\n",
    "\n",
    "    def graficar_resultados(self, ruta):\n",
    "        fig, ax = plt.subplots(2, 2, sharex='col', sharey='row')\n",
    "        ax = np.ravel(ax)\n",
    "        x, y, zs = self.multigrafo(ruta)\n",
    "        for ax_i, z in enumerate(zs):\n",
    "            im = ax[ax_i].contourf(x, y, zs[z] )\n",
    "            plt.colorbar(im, ax=ax[ax_i])\n",
    "            ax[ax_i].title.set_text(z)\n",
    "        ax = np.reshape(ax, (2,2))\n",
    "        fig.supxlabel(\"radio\")\n",
    "        fig.supylabel(\"numero minimo de puntos\")\n",
    "        fig.tight_layout()\n",
    "        fig.savefig(f'graficos_experimentos/dbscan/{path.splitext(path.basename(ruta))[0]}.png')\n",
    "        plt.close()\n",
    "\n",
    "\n",
    "for rutas_dbscan in rutas['dbscan']:\n",
    "    Graficos_DBSCAN().graficar_resultados(rutas_dbscan)"
   ]
  },
  {
   "cell_type": "code",
   "execution_count": 44,
   "metadata": {},
   "outputs": [],
   "source": [
    "class Graficos_KMEDIAS:\n",
    "    def multigrafo(self, ruta):\n",
    "        df = pd.read_csv(ruta)\n",
    "        x =  df['umbral'].unique()\n",
    "        y = df['k'].unique()\n",
    "        X, Y = np.meshgrid(x, y)\n",
    "        nombre_z = df.columns.tolist()\n",
    "        nombre_z.remove('k')\n",
    "        nombre_z.remove('umbral')\n",
    "        nombre_z.remove('orden')\n",
    "\n",
    "        orden = df.orden.unique()\n",
    "\n",
    "        Zs = {}\n",
    "        for nombre_z_i in nombre_z:\n",
    "            Zs[nombre_z_i] = {}\n",
    "            for orden_i in orden:\n",
    "                Zs[nombre_z_i][orden_i] = df[df['orden']==orden_i][nombre_z_i].to_numpy().reshape(y.size, x.size)\n",
    "\n",
    "        return X, Y, Zs\n",
    "\n",
    "    def graficar_resultados(self, ruta):\n",
    "        # Cada fila es un orden de distancia\n",
    "        # cada columna es un score\n",
    "        fig, ax = plt.subplots(3, 3, sharex='col', sharey='row', figsize=(12,8))\n",
    "        x, y, zs = self.multigrafo(ruta)\n",
    "        for z_i, zdic in enumerate(zs):\n",
    "            for z_j, z in enumerate(zs[zdic]):\n",
    "\n",
    "                im = ax[z_i, z_j].contourf(x, y, zs[zdic][z] )\n",
    "                plt.colorbar(im, ax=ax[z_i, z_j])\n",
    "                p = z if z>0 else \"$\\infty$\"\n",
    "                titulo = f\"{zdic} p={p}\"\n",
    "                ax[z_i, z_j].title.set_text(titulo)\n",
    "\n",
    "\n",
    "        fig.supxlabel(\"umbral\")\n",
    "        fig.supylabel(\"k (número de centroides)\")\n",
    "        fig.tight_layout()\n",
    "\n",
    "        fig.savefig(f'graficos_experimentos/k_medias/{path.splitext(path.basename(ruta))[0]}.png')\n",
    "        plt.close()\n",
    "    \n",
    "\n",
    "for rutas_k_medias in rutas['k_medias']:\n",
    "    Graficos_KMEDIAS().graficar_resultados(rutas_k_medias)"
   ]
  },
  {
   "cell_type": "code",
   "execution_count": 75,
   "metadata": {},
   "outputs": [],
   "source": [
    "class Graficos_GMM:\n",
    "    def multigrafo(self, ruta):\n",
    "        df = pd.read_csv(ruta)\n",
    "        x =  df['k'].unique()\n",
    "        nombre_z = df.columns.tolist()\n",
    "        nombre_z.remove('k')\n",
    "        nombre_z.remove('epoca')\n",
    "\n",
    "        df = df.drop(\"epoca\",axis=1).groupby(\"k\").mean()\n",
    "\n",
    "        Zs = {}\n",
    "        for nombre_z_i in nombre_z:\n",
    "            Zs[nombre_z_i] = df[nombre_z_i].to_numpy().flatten()\n",
    "\n",
    "        return x, Zs\n",
    "\n",
    "    def graficar_resultados(self, ruta):\n",
    "        # Cada fila es un orden de distancia\n",
    "        # cada columna es un score\n",
    "        fig, ax = plt.subplots(1, 3, figsize=(10,4))\n",
    "        x, zs = self.multigrafo(ruta)\n",
    "        for z_i, z in enumerate(zs):\n",
    "            ax[z_i].plot(x, zs[z] ,'o')\n",
    "            ax[z_i].title.set_text(z)\n",
    "\n",
    "        fig.supxlabel(\"k (numero de clases)\")\n",
    "        fig.supylabel(\"score\")\n",
    "        fig.tight_layout()\n",
    "\n",
    "        # fig.show()\n",
    "        fig.savefig(f'graficos_experimentos/gmm/{path.splitext(path.basename(ruta))[0]}.png')\n",
    "        plt.close()\n",
    "    \n",
    "\n",
    "for rutas_k_gmm in rutas['gmm']:\n",
    "    Graficos_GMM().graficar_resultados(rutas_k_gmm)"
   ]
  },
  {
   "attachments": {},
   "cell_type": "markdown",
   "metadata": {},
   "source": [
    "# Obtener codigo latex"
   ]
  },
  {
   "cell_type": "code",
   "execution_count": 21,
   "metadata": {},
   "outputs": [],
   "source": [
    "def escribir(ruta):\n",
    "    return f\"\"\" \n",
    "\\\\begin{{figure}}[htbp]\n",
    "\\\\centerline{{\\\\includegraphics[width=0.5\\\\textwidth]{{{ruta[2:]}}}}}\n",
    "\\\\caption{{Example of a figure caption.}}\n",
    "\\\\label{{{ruta[2:]}}}\n",
    "\\\\end{{figure}}\n",
    "\"\"\"\n",
    "\n",
    "def obtener_latex():\n",
    "    rutas = glob('./graficos_experimentos/*/*.png', recursive=True)\n",
    "    with open(\"graficos.tex\", \"w\") as f:\n",
    "        for ruta_i in rutas:\n",
    "            f.write(escribir(ruta_i))\n",
    "\n",
    "\"\"\" \n",
    "\\begin{figure}[htbp]\n",
    "\\centerline{\\includegraphics[width=0.5\\textwidth]{graficos_experimentos/dbscan/caracteristicos0_pca0.9.png}}\n",
    "\\caption{Example of a figure caption.}\n",
    "\\label{fig}\n",
    "\\end{figure}\n",
    "\"\"\"\n",
    "\n",
    "obtener_latex()"
   ]
  }
 ],
 "metadata": {
  "kernelspec": {
   "display_name": "Python 3",
   "language": "python",
   "name": "python3"
  },
  "language_info": {
   "codemirror_mode": {
    "name": "ipython",
    "version": 3
   },
   "file_extension": ".py",
   "mimetype": "text/x-python",
   "name": "python",
   "nbconvert_exporter": "python",
   "pygments_lexer": "ipython3",
   "version": "3.11.0"
  },
  "orig_nbformat": 4
 },
 "nbformat": 4,
 "nbformat_minor": 2
}
