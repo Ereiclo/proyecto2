{
  "cells": [
    {
      "cell_type": "code",
      "execution_count": 8,
      "metadata": {
        "id": "KAH0GRA6__jI"
      },
      "outputs": [],
      "source": [
        "from  skimage.io import imread, imshow\n",
        "import pywt\n",
        "import pywt.data\n",
        "import matplotlib.pyplot as plt\n",
        "import numpy as np\n",
        "import glob\n",
        "import gmm\n",
        "from tqdm import tqdm\n",
        "import json\n",
        "import os\n",
        "from sklearn.cluster import KMeans\n",
        "import matplotlib.pyplot as plt\n",
        "import dbscan"
      ]
    },
    {
      "cell_type": "markdown",
      "metadata": {
        "id": "F4IHKceszqol"
      },
      "source": [
        "# Obtener datos procesados"
      ]
    },
    {
      "cell_type": "markdown",
      "metadata": {
        "id": "H9I2oT19QaJ4"
      },
      "source": [
        "## Obtener todas las imagenes"
      ]
    },
    {
      "cell_type": "code",
      "execution_count": 4,
      "metadata": {
        "colab": {
          "base_uri": "https://localhost:8080/",
          "height": 311
        },
        "id": "pbVxuZI7APfE",
        "outputId": "ea355573-fa6b-414c-cbaa-3fea0dd03e68"
      },
      "outputs": [
        {
          "name": "stdout",
          "output_type": "stream",
          "text": [
            "['./imagenes/S060_003_00000018.png', './imagenes/S147_002_00000011.png', './imagenes/S071_004_00000028.png', './imagenes/S042_004_00000019.png', './imagenes/S106_004_00000008.png', './imagenes/S148_002_00000014.png', './imagenes/S077_001_00000028.png', './imagenes/S501_004_00000056.png', './imagenes/S101_002_00000018.png', './imagenes/S131_006_00000022.png', './imagenes/S026_006_00000011.png', './imagenes/S085_003_00000011.png', './imagenes/S078_001_00000032.png', './imagenes/S116_001_00000013.png', './imagenes/S022_005_00000031.png', './imagenes/S119_008_00000018.png', './imagenes/S082_001_00000014.png', './imagenes/S137_005_00000027.png', './imagenes/S113_001_00000012.png', './imagenes/S077_006_00000013.png', './imagenes/S022_005_00000030.png', './imagenes/S061_004_00000021.png', './imagenes/S504_002_00000007.png', './imagenes/S155_002_00000011.png', './imagenes/S069_004_00000017.png', './imagenes/S083_003_00000017.png', './imagenes/S074_005_00000041.png', './imagenes/S127_010_00000018.png', './imagenes/S075_008_00000011.png', './imagenes/S058_006_00000016.png', './imagenes/S137_005_00000025.png', './imagenes/S044_003_00000013.png', './imagenes/S010_006_00000015.png', './imagenes/S082_001_00000015.png', './imagenes/S097_001_00000019.png', './imagenes/S127_004_00000015.png', './imagenes/S063_002_00000021.png', './imagenes/S079_002_00000012.png', './imagenes/S089_002_00000021.png', './imagenes/S035_005_00000019.png', './imagenes/S112_005_00000015.png', './imagenes/S045_005_00000029.png', './imagenes/S094_001_00000009.png', './imagenes/S097_006_00000018.png', './imagenes/S055_003_00000007.png', './imagenes/S111_007_00000013.png', './imagenes/S068_003_00000014.png', './imagenes/S503_006_00000020.png', './imagenes/S111_001_00000013.png', './imagenes/S132_002_00000018.png', './imagenes/S071_004_00000026.png', './imagenes/S117_003_00000012.png', './imagenes/S099_001_00000012.png', './imagenes/S071_002_00000018.png', './imagenes/S063_002_00000022.png', './imagenes/S035_005_00000018.png', './imagenes/S126_004_00000011.png', './imagenes/S099_004_00000015.png', './imagenes/S096_001_00000005.png', './imagenes/S109_006_00000013.png', './imagenes/S117_003_00000013.png', './imagenes/S100_005_00000021.png', './imagenes/S088_004_00000019.png', './imagenes/S066_004_00000008.png', './imagenes/S099_007_00000011.png', './imagenes/S109_006_00000015.png', './imagenes/S132_002_00000017.png', './imagenes/S046_004_00000015.png', './imagenes/S087_001_00000010.png', './imagenes/S070_005_00000014.png', './imagenes/S105_008_00000008.png', './imagenes/S158_002_00000011.png', './imagenes/S116_006_00000007.png', './imagenes/S125_005_00000011.png', './imagenes/S011_006_00000013.png', './imagenes/S105_008_00000009.png', './imagenes/S062_005_00000027.png', './imagenes/S057_006_00000033.png', './imagenes/S130_012_00000009.png', './imagenes/S148_002_00000015.png', './imagenes/S067_006_00000011.png', './imagenes/S134_004_00000013.png', './imagenes/S074_004_00000016.png', './imagenes/S129_012_00000011.png', './imagenes/S093_004_00000014.png', './imagenes/S506_002_00000007.png', './imagenes/S050_002_00000016.png', './imagenes/S059_002_00000017.png', './imagenes/S074_004_00000017.png', './imagenes/S070_005_00000016.png', './imagenes/S062_005_00000029.png', './imagenes/S037_006_00000021.png', './imagenes/S055_003_00000008.png', './imagenes/S130_009_00000019.png', './imagenes/S035_001_00000014.png', './imagenes/S056_004_00000018.png', './imagenes/S011_003_00000013.png', './imagenes/S046_001_00000025.png', './imagenes/S084_002_00000023.png', './imagenes/S055_001_00000011.png', './imagenes/S082_007_00000009.png', './imagenes/S125_006_00000020.png', './imagenes/S057_001_00000018.png', './imagenes/S125_008_00000009.png', './imagenes/S154_002_00000012.png', './imagenes/S074_004_00000018.png', './imagenes/S035_006_00000017.png', './imagenes/S066_004_00000009.png', './imagenes/S156_002_00000019.png', './imagenes/S055_005_00000043.png', './imagenes/S128_011_00000016.png', './imagenes/S131_010_00000017.png', './imagenes/S055_004_00000026.png', './imagenes/S108_005_00000022.png', './imagenes/S119_008_00000016.png', './imagenes/S094_001_00000010.png', './imagenes/S110_001_00000011.png', './imagenes/S028_001_00000022.png', './imagenes/S096_003_00000010.png', './imagenes/S136_003_00000014.png', './imagenes/S014_002_00000015.png', './imagenes/S062_004_00000022.png', './imagenes/S138_004_00000013.png', './imagenes/S067_005_00000020.png', './imagenes/S075_006_00000025.png', './imagenes/S093_001_00000020.png', './imagenes/S091_001_00000014.png', './imagenes/S085_004_00000016.png', './imagenes/S075_002_00000012.png', './imagenes/S136_001_00000017.png', './imagenes/S108_008_00000011.png', './imagenes/S052_006_00000012.png', './imagenes/S065_003_00000022.png', './imagenes/S124_007_00000022.png', './imagenes/S062_004_00000024.png', './imagenes/S078_004_00000027.png', './imagenes/S014_003_00000028.png', './imagenes/S117_001_00000013.png', './imagenes/S134_004_00000015.png', './imagenes/S051_003_00000016.png', './imagenes/S085_004_00000015.png', './imagenes/S505_002_00000021.png', './imagenes/S504_006_00000018.png', './imagenes/S078_004_00000026.png', './imagenes/S136_003_00000012.png', './imagenes/S011_005_00000019.png', './imagenes/S067_002_00000013.png', './imagenes/S011_001_00000016.png', './imagenes/S126_008_00000028.png', './imagenes/S072_005_00000019.png', './imagenes/S130_012_00000011.png', './imagenes/S086_001_00000019.png', './imagenes/S090_002_00000009.png', './imagenes/S065_004_00000026.png', './imagenes/S054_004_00000022.png', './imagenes/S068_005_00000020.png', './imagenes/S087_007_00000016.png', './imagenes/S071_002_00000020.png', './imagenes/S131_003_00000023.png', './imagenes/S139_002_00000012.png', './imagenes/S058_001_00000020.png', './imagenes/S109_003_00000015.png', './imagenes/S099_001_00000013.png', './imagenes/S087_005_00000011.png', './imagenes/S119_008_00000017.png', './imagenes/S138_004_00000011.png', './imagenes/S066_003_00000010.png', './imagenes/S068_002_00000014.png', './imagenes/S157_002_00000009.png', './imagenes/S122_001_00000011.png', './imagenes/S086_002_00000014.png', './imagenes/S149_002_00000013.png', './imagenes/S125_007_00000007.png', './imagenes/S151_002_00000027.png', './imagenes/S068_005_00000021.png', './imagenes/S070_002_00000016.png', './imagenes/S037_006_00000019.png', './imagenes/S011_004_00000021.png', './imagenes/S065_002_00000021.png', './imagenes/S156_002_00000021.png', './imagenes/S129_012_00000009.png', './imagenes/S046_004_00000016.png', './imagenes/S127_001_00000016.png', './imagenes/S070_005_00000015.png', './imagenes/S022_006_00000015.png', './imagenes/S132_006_00000023.png', './imagenes/S092_004_00000024.png', './imagenes/S042_001_00000017.png', './imagenes/S072_006_00000021.png', './imagenes/S011_004_00000019.png', './imagenes/S058_005_00000010.png', './imagenes/S131_003_00000022.png', './imagenes/S014_001_00000027.png', './imagenes/S069_002_00000014.png', './imagenes/S060_005_00000019.png', './imagenes/S505_006_00000019.png', './imagenes/S010_006_00000014.png', './imagenes/S075_002_00000014.png', './imagenes/S055_001_00000010.png', './imagenes/S073_006_00000014.png', './imagenes/S129_011_00000017.png', './imagenes/S094_004_00000011.png', './imagenes/S075_008_00000010.png', './imagenes/S071_001_00000013.png', './imagenes/S067_004_00000021.png', './imagenes/S134_003_00000010.png', './imagenes/S080_005_00000012.png', './imagenes/S022_001_00000029.png', './imagenes/S066_004_00000010.png', './imagenes/S131_006_00000020.png', './imagenes/S087_005_00000010.png', './imagenes/S502_002_00000009.png', './imagenes/S119_001_00000010.png', './imagenes/S101_002_00000019.png', './imagenes/S092_003_00000014.png', './imagenes/S034_001_00000028.png', './imagenes/S092_003_00000012.png', './imagenes/S111_006_00000010.png', './imagenes/S088_001_00000017.png', './imagenes/S055_001_00000012.png', './imagenes/S079_004_00000025.png', './imagenes/S029_001_00000017.png', './imagenes/S129_002_00000011.png', './imagenes/S113_008_00000022.png', './imagenes/S094_001_00000008.png', './imagenes/S096_004_00000010.png', './imagenes/S098_004_00000013.png', './imagenes/S136_005_00000009.png', './imagenes/S069_003_00000009.png', './imagenes/S054_002_00000013.png', './imagenes/S506_004_00000037.png', './imagenes/S102_002_00000016.png', './imagenes/S075_005_00000012.png', './imagenes/S032_006_00000014.png', './imagenes/S160_006_00000009.png', './imagenes/S070_003_00000015.png', './imagenes/S099_001_00000014.png', './imagenes/S135_001_00000039.png', './imagenes/S098_004_00000014.png', './imagenes/S037_006_00000020.png', './imagenes/S147_002_00000012.png', './imagenes/S132_005_00000014.png', './imagenes/S091_001_00000015.png', './imagenes/S074_001_00000020.png', './imagenes/S158_002_00000009.png', './imagenes/S076_006_00000019.png', './imagenes/S035_001_00000013.png', './imagenes/S078_007_00000013.png', './imagenes/S064_003_00000025.png', './imagenes/S102_003_00000014.png', './imagenes/S073_001_00000012.png', './imagenes/S131_001_00000016.png', './imagenes/S101_002_00000017.png', './imagenes/S081_008_00000009.png', './imagenes/S895_002_00000005.png', './imagenes/S053_001_00000021.png', './imagenes/S105_008_00000010.png', './imagenes/S502_002_00000008.png', './imagenes/S014_001_00000029.png', './imagenes/S076_001_00000016.png', './imagenes/S057_003_00000015.png', './imagenes/S100_006_00000015.png', './imagenes/S090_002_00000010.png', './imagenes/S999_001_00000018.png', './imagenes/S014_002_00000016.png', './imagenes/S067_006_00000010.png', './imagenes/S071_006_00000014.png', './imagenes/S050_004_00000019.png', './imagenes/S506_006_00000040.png', './imagenes/S122_001_00000010.png', './imagenes/S079_002_00000010.png', './imagenes/S086_002_00000013.png', './imagenes/S502_001_00000016.png', './imagenes/S060_002_00000025.png', './imagenes/S111_007_00000012.png', './imagenes/S130_009_00000018.png', './imagenes/S011_003_00000012.png', './imagenes/S102_003_00000015.png', './imagenes/S011_004_00000020.png', './imagenes/S096_001_00000007.png', './imagenes/S084_001_00000009.png', './imagenes/S131_001_00000015.png', './imagenes/S081_002_00000022.png', './imagenes/S080_008_00000007.png', './imagenes/S071_004_00000027.png', './imagenes/S087_004_00000011.png', './imagenes/S062_005_00000028.png', './imagenes/S102_009_00000015.png', './imagenes/S090_006_00000009.png', './imagenes/S059_001_00000017.png', './imagenes/S087_007_00000014.png', './imagenes/S097_004_00000029.png', './imagenes/S107_005_00000011.png', './imagenes/S107_005_00000010.png', './imagenes/S081_001_00000019.png', './imagenes/S061_002_00000014.png', './imagenes/S126_004_00000010.png', './imagenes/S126_008_00000027.png', './imagenes/S044_001_00000022.png', './imagenes/S138_004_00000012.png', './imagenes/S085_003_00000013.png', './imagenes/S113_001_00000010.png', './imagenes/S107_001_00000010.png', './imagenes/S082_007_00000008.png', './imagenes/S125_006_00000022.png', './imagenes/S502_001_00000015.png', './imagenes/S075_005_00000011.png', './imagenes/S115_001_00000006.png', './imagenes/S106_004_00000007.png', './imagenes/S085_002_00000012.png', './imagenes/S136_001_00000018.png', './imagenes/S133_003_00000046.png', './imagenes/S056_003_00000008.png', './imagenes/S117_006_00000009.png', './imagenes/S100_002_00000015.png', './imagenes/S046_001_00000023.png', './imagenes/S054_003_00000007.png', './imagenes/S093_001_00000019.png', './imagenes/S084_002_00000021.png', './imagenes/S133_010_00000012.png', './imagenes/S136_005_00000008.png', './imagenes/S053_001_00000022.png', './imagenes/S125_005_00000013.png', './imagenes/S100_005_00000022.png', './imagenes/S011_006_00000012.png', './imagenes/S130_007_00000018.png', './imagenes/S114_006_00000023.png', './imagenes/S091_003_00000019.png', './imagenes/S058_006_00000017.png', './imagenes/S504_004_00000014.png', './imagenes/S011_002_00000022.png', './imagenes/S014_005_00000017.png', './imagenes/S037_003_00000022.png', './imagenes/S026_002_00000015.png', './imagenes/S505_002_00000020.png', './imagenes/S026_002_00000014.png', './imagenes/S080_001_00000016.png', './imagenes/S022_005_00000032.png', './imagenes/S071_002_00000019.png', './imagenes/S045_005_00000030.png', './imagenes/S109_005_00000014.png', './imagenes/S137_005_00000026.png', './imagenes/S054_004_00000024.png', './imagenes/S099_007_00000012.png', './imagenes/S113_001_00000011.png', './imagenes/S157_002_00000010.png', './imagenes/S054_002_00000014.png', './imagenes/S062_002_00000016.png', './imagenes/S087_001_00000009.png', './imagenes/S108_008_00000013.png', './imagenes/S089_003_00000035.png', './imagenes/S056_002_00000008.png', './imagenes/S034_003_00000026.png', './imagenes/S106_004_00000006.png', './imagenes/S063_001_00000012.png', './imagenes/S072_005_00000018.png', './imagenes/S503_002_00000006.png', './imagenes/S504_004_00000015.png', './imagenes/S037_001_00000019.png', './imagenes/S035_001_00000015.png', './imagenes/S051_002_00000017.png', './imagenes/S100_006_00000016.png', './imagenes/S089_001_00000015.png', './imagenes/S034_005_00000010.png', './imagenes/S136_006_00000018.png', './imagenes/S058_006_00000018.png', './imagenes/S095_006_00000011.png', './imagenes/S108_005_00000021.png', './imagenes/S050_006_00000021.png', './imagenes/S069_004_00000016.png', './imagenes/S126_004_00000012.png', './imagenes/S154_002_00000013.png', './imagenes/S501_004_00000055.png', './imagenes/S999_003_00000053.png', './imagenes/S066_002_00000022.png', './imagenes/S095_010_00000013.png', './imagenes/S095_006_00000012.png', './imagenes/S130_001_00000016.png', './imagenes/S063_001_00000011.png', './imagenes/S014_003_00000029.png', './imagenes/S032_003_00000016.png', './imagenes/S035_006_00000016.png', './imagenes/S011_006_00000011.png', './imagenes/S071_001_00000011.png', './imagenes/S022_006_00000016.png', './imagenes/S102_002_00000017.png', './imagenes/S095_007_00000019.png', './imagenes/S055_006_00000006.png', './imagenes/S137_011_00000018.png', './imagenes/S136_003_00000013.png', './imagenes/S999_001_00000017.png', './imagenes/S138_005_00000014.png', './imagenes/S075_008_00000012.png', './imagenes/S022_006_00000017.png', './imagenes/S032_004_00000012.png', './imagenes/S110_001_00000013.png', './imagenes/S010_002_00000012.png', './imagenes/S059_001_00000016.png', './imagenes/S032_006_00000015.png', './imagenes/S503_001_00000070.png', './imagenes/S034_005_00000009.png', './imagenes/S080_005_00000011.png', './imagenes/S130_013_00000013.png', './imagenes/S124_001_00000013.png', './imagenes/S134_008_00000013.png', './imagenes/S503_001_00000069.png', './imagenes/S032_003_00000015.png', './imagenes/S111_007_00000014.png', './imagenes/S052_001_00000014.png', './imagenes/S068_005_00000019.png', './imagenes/S127_001_00000017.png', './imagenes/S148_002_00000013.png', './imagenes/S095_006_00000013.png', './imagenes/S029_001_00000019.png', './imagenes/S127_010_00000016.png', './imagenes/S087_005_00000012.png', './imagenes/S052_001_00000013.png', './imagenes/S078_007_00000011.png', './imagenes/S124_003_00000010.png', './imagenes/S066_005_00000009.png', './imagenes/S029_001_00000018.png', './imagenes/S014_003_00000030.png', './imagenes/S157_002_00000011.png', './imagenes/S056_003_00000010.png', './imagenes/S046_003_00000014.png', './imagenes/S506_001_00000038.png', './imagenes/S052_004_00000032.png', './imagenes/S134_008_00000011.png', './imagenes/S011_001_00000014.png', './imagenes/S132_008_00000008.png', './imagenes/S074_001_00000018.png', './imagenes/S055_005_00000045.png', './imagenes/S066_005_00000010.png', './imagenes/S087_004_00000010.png', './imagenes/S112_005_00000016.png', './imagenes/S117_006_00000010.png', './imagenes/S014_005_00000015.png', './imagenes/S092_001_00000017.png', './imagenes/S133_009_00000004.png', './imagenes/S042_001_00000019.png', './imagenes/S062_001_00000017.png', './imagenes/S044_006_00000017.png', './imagenes/S095_001_00000014.png', './imagenes/S151_002_00000028.png', './imagenes/S116_007_00000015.png', './imagenes/S138_007_00000010.png', './imagenes/S501_001_00000065.png', './imagenes/S057_003_00000013.png', './imagenes/S134_003_00000009.png', './imagenes/S106_002_00000015.png', './imagenes/S115_008_00000017.png', './imagenes/S506_006_00000041.png', './imagenes/S032_004_00000013.png', './imagenes/S100_006_00000014.png', './imagenes/S065_005_00000007.png', './imagenes/S045_005_00000028.png', './imagenes/S109_005_00000013.png', './imagenes/S506_006_00000042.png', './imagenes/S096_003_00000012.png', './imagenes/S074_005_00000042.png', './imagenes/S076_001_00000017.png', './imagenes/S092_001_00000015.png', './imagenes/S072_006_00000020.png', './imagenes/S097_004_00000030.png', './imagenes/S088_001_00000015.png', './imagenes/S114_001_00000017.png', './imagenes/S094_004_00000010.png', './imagenes/S052_004_00000033.png', './imagenes/S135_001_00000038.png', './imagenes/S032_001_00000020.png', './imagenes/S071_006_00000012.png', './imagenes/S081_002_00000023.png', './imagenes/S066_002_00000020.png', './imagenes/S131_010_00000018.png', './imagenes/S502_004_00000051.png', './imagenes/S124_007_00000023.png', './imagenes/S057_006_00000031.png', './imagenes/S056_004_00000020.png', './imagenes/S502_001_00000014.png', './imagenes/S062_004_00000023.png', './imagenes/S073_006_00000012.png', './imagenes/S119_003_00000022.png', './imagenes/S076_005_00000010.png', './imagenes/S138_001_00000011.png', './imagenes/S044_001_00000023.png', './imagenes/S054_002_00000015.png', './imagenes/S080_001_00000018.png', './imagenes/S032_006_00000016.png', './imagenes/S082_007_00000010.png', './imagenes/S077_001_00000026.png', './imagenes/S089_002_00000019.png', './imagenes/S096_001_00000006.png', './imagenes/S089_002_00000020.png', './imagenes/S073_001_00000013.png', './imagenes/S895_002_00000006.png', './imagenes/S085_003_00000012.png', './imagenes/S119_001_00000009.png', './imagenes/S503_006_00000018.png', './imagenes/S116_006_00000006.png', './imagenes/S080_008_00000008.png', './imagenes/S057_001_00000019.png', './imagenes/S106_006_00000009.png', './imagenes/S113_008_00000021.png', './imagenes/S067_006_00000009.png', './imagenes/S114_006_00000021.png', './imagenes/S132_006_00000022.png', './imagenes/S075_006_00000024.png', './imagenes/S037_001_00000018.png', './imagenes/S069_003_00000011.png', './imagenes/S042_006_00000016.png', './imagenes/S064_004_00000013.png', './imagenes/S089_001_00000014.png', './imagenes/S050_004_00000020.png', './imagenes/S037_003_00000020.png', './imagenes/S090_006_00000011.png', './imagenes/S127_001_00000015.png', './imagenes/S081_001_00000017.png', './imagenes/S044_006_00000019.png', './imagenes/S092_004_00000023.png', './imagenes/S098_003_00000012.png', './imagenes/S505_006_00000017.png', './imagenes/S503_002_00000008.png', './imagenes/S136_001_00000019.png', './imagenes/S062_002_00000015.png', './imagenes/S045_004_00000014.png', './imagenes/S071_005_00000020.png', './imagenes/S064_003_00000023.png', './imagenes/S045_004_00000013.png', './imagenes/S081_001_00000018.png', './imagenes/S106_006_00000010.png', './imagenes/S504_002_00000009.png', './imagenes/S132_005_00000015.png', './imagenes/S037_001_00000020.png', './imagenes/S502_004_00000050.png', './imagenes/S046_002_00000006.png', './imagenes/S122_001_00000012.png', './imagenes/S061_001_00000010.png', './imagenes/S109_005_00000012.png', './imagenes/S097_001_00000021.png', './imagenes/S067_002_00000012.png', './imagenes/S099_004_00000014.png', './imagenes/S151_002_00000029.png', './imagenes/S119_003_00000023.png', './imagenes/S032_004_00000014.png', './imagenes/S055_006_00000007.png', './imagenes/S080_008_00000009.png', './imagenes/S058_005_00000009.png', './imagenes/S102_009_00000014.png', './imagenes/S085_004_00000017.png', './imagenes/S078_001_00000031.png', './imagenes/S506_001_00000040.png', './imagenes/S132_003_00000022.png', './imagenes/S055_006_00000008.png', './imagenes/S117_006_00000008.png', './imagenes/S129_006_00000008.png', './imagenes/S061_004_00000022.png', './imagenes/S010_004_00000019.png', './imagenes/S080_005_00000013.png', './imagenes/S129_002_00000010.png', './imagenes/S055_004_00000028.png', './imagenes/S115_008_00000016.png', './imagenes/S051_002_00000019.png', './imagenes/S108_005_00000020.png', './imagenes/S014_002_00000014.png', './imagenes/S129_006_00000010.png', './imagenes/S501_006_00000041.png', './imagenes/S065_005_00000008.png', './imagenes/S137_011_00000020.png', './imagenes/S056_002_00000010.png', './imagenes/S095_010_00000012.png', './imagenes/S106_002_00000016.png', './imagenes/S134_004_00000014.png', './imagenes/S089_003_00000034.png', './imagenes/S999_001_00000016.png', './imagenes/S052_001_00000015.png', './imagenes/S068_002_00000013.png', './imagenes/S082_005_00000017.png', './imagenes/S086_001_00000017.png', './imagenes/S095_001_00000016.png', './imagenes/S034_005_00000008.png', './imagenes/S090_006_00000010.png', './imagenes/S059_002_00000016.png', './imagenes/S095_010_00000014.png', './imagenes/S155_002_00000010.png', './imagenes/S052_006_00000013.png', './imagenes/S115_004_00000016.png', './imagenes/S506_004_00000038.png', './imagenes/S011_002_00000021.png', './imagenes/S111_001_00000014.png', './imagenes/S055_005_00000044.png', './imagenes/S046_002_00000005.png', './imagenes/S100_002_00000013.png', './imagenes/S091_003_00000020.png', './imagenes/S010_004_00000017.png', './imagenes/S138_008_00000008.png', './imagenes/S096_003_00000011.png', './imagenes/S128_004_00000011.png', './imagenes/S053_001_00000023.png', './imagenes/S504_001_00000021.png', './imagenes/S116_007_00000017.png', './imagenes/S095_007_00000021.png', './imagenes/S506_004_00000036.png', './imagenes/S064_001_00000011.png', './imagenes/S505_006_00000018.png', './imagenes/S079_001_00000012.png', './imagenes/S126_008_00000029.png', './imagenes/S108_008_00000012.png', './imagenes/S133_009_00000006.png', './imagenes/S011_003_00000014.png', './imagenes/S503_002_00000007.png', './imagenes/S050_001_00000017.png', './imagenes/S110_001_00000012.png', './imagenes/S022_001_00000030.png', './imagenes/S044_003_00000014.png', './imagenes/S108_006_00000019.png', './imagenes/S100_005_00000023.png', './imagenes/S079_002_00000011.png', './imagenes/S057_001_00000017.png', './imagenes/S133_009_00000005.png', './imagenes/S042_002_00000014.png', './imagenes/S065_004_00000028.png', './imagenes/S106_002_00000014.png', './imagenes/S501_004_00000054.png', './imagenes/S010_004_00000018.png', './imagenes/S135_012_00000020.png', './imagenes/S042_004_00000020.png', './imagenes/S061_002_00000013.png', './imagenes/S100_002_00000014.png', './imagenes/S114_006_00000022.png', './imagenes/S082_001_00000013.png', './imagenes/S032_001_00000022.png', './imagenes/S109_003_00000016.png', './imagenes/S088_004_00000018.png', './imagenes/S084_002_00000022.png', './imagenes/S504_004_00000013.png', './imagenes/S053_004_00000022.png', './imagenes/S138_007_00000011.png', './imagenes/S074_001_00000019.png', './imagenes/S075_005_00000010.png', './imagenes/S053_004_00000023.png', './imagenes/S135_012_00000019.png', './imagenes/S093_001_00000018.png', './imagenes/S034_001_00000029.png', './imagenes/S076_001_00000015.png', './imagenes/S113_003_00000014.png', './imagenes/S081_008_00000011.png', './imagenes/S095_007_00000020.png', './imagenes/S092_003_00000013.png', './imagenes/S055_003_00000009.png', './imagenes/S125_001_00000013.png', './imagenes/S501_006_00000039.png', './imagenes/S067_004_00000023.png', './imagenes/S076_006_00000018.png', './imagenes/S068_004_00000010.png', './imagenes/S090_007_00000014.png', './imagenes/S060_002_00000026.png', './imagenes/S136_005_00000010.png', './imagenes/S130_009_00000017.png', './imagenes/S060_005_00000021.png', './imagenes/S117_001_00000012.png', './imagenes/S032_003_00000017.png', './imagenes/S130_013_00000014.png', './imagenes/S124_006_00000011.png', './imagenes/S125_008_00000010.png', './imagenes/S506_001_00000039.png', './imagenes/S895_002_00000007.png', './imagenes/S071_005_00000021.png', './imagenes/S072_006_00000022.png', './imagenes/S125_008_00000008.png', './imagenes/S073_006_00000013.png', './imagenes/S034_003_00000027.png', './imagenes/S130_007_00000019.png', './imagenes/S070_002_00000015.png', './imagenes/S132_008_00000009.png', './imagenes/S124_001_00000014.png', './imagenes/S069_004_00000015.png', './imagenes/S130_001_00000017.png', './imagenes/S066_002_00000021.png', './imagenes/S129_011_00000018.png', './imagenes/S071_006_00000013.png', './imagenes/S089_003_00000036.png', './imagenes/S127_004_00000014.png', './imagenes/S042_001_00000018.png', './imagenes/S078_004_00000025.png', './imagenes/S057_006_00000032.png', './imagenes/S130_007_00000020.png', './imagenes/S011_001_00000015.png', './imagenes/S077_006_00000014.png', './imagenes/S075_002_00000013.png', './imagenes/S026_003_00000013.png', './imagenes/S042_006_00000015.png', './imagenes/S129_011_00000016.png', './imagenes/S005_001_00000009.png', './imagenes/S132_008_00000010.png', './imagenes/S134_003_00000011.png', './imagenes/S087_007_00000015.png', './imagenes/S035_005_00000017.png', './imagenes/S050_001_00000016.png', './imagenes/S087_004_00000012.png', './imagenes/S064_004_00000012.png', './imagenes/S062_002_00000014.png', './imagenes/S098_003_00000013.png', './imagenes/S130_013_00000015.png', './imagenes/S132_002_00000016.png', './imagenes/S055_004_00000027.png', './imagenes/S132_003_00000023.png', './imagenes/S114_001_00000018.png', './imagenes/S042_002_00000015.png', './imagenes/S068_003_00000012.png', './imagenes/S160_006_00000008.png', './imagenes/S098_004_00000015.png', './imagenes/S093_004_00000015.png', './imagenes/S086_001_00000018.png', './imagenes/S137_001_00000013.png', './imagenes/S160_006_00000010.png', './imagenes/S092_004_00000022.png', './imagenes/S069_002_00000012.png', './imagenes/S133_003_00000047.png', './imagenes/S117_001_00000014.png', './imagenes/S125_007_00000009.png', './imagenes/S066_003_00000012.png', './imagenes/S046_003_00000015.png', './imagenes/S079_001_00000011.png', './imagenes/S051_002_00000018.png', './imagenes/S075_006_00000023.png', './imagenes/S132_005_00000016.png', './imagenes/S011_005_00000018.png', './imagenes/S113_003_00000013.png', './imagenes/S061_001_00000012.png', './imagenes/S063_002_00000023.png', './imagenes/S010_006_00000013.png', './imagenes/S058_001_00000018.png', './imagenes/S125_005_00000012.png', './imagenes/S056_003_00000009.png', './imagenes/S035_006_00000018.png', './imagenes/S032_001_00000021.png', './imagenes/S011_002_00000020.png', './imagenes/S506_002_00000008.png', './imagenes/S046_001_00000024.png', './imagenes/S099_007_00000010.png', './imagenes/S090_007_00000013.png', './imagenes/S097_004_00000028.png', './imagenes/S032_005_00000016.png', './imagenes/S130_001_00000018.png', './imagenes/S096_004_00000009.png', './imagenes/S045_004_00000015.png', './imagenes/S139_002_00000011.png', './imagenes/S134_008_00000012.png', './imagenes/S138_008_00000009.png', './imagenes/S032_005_00000014.png', './imagenes/S108_006_00000020.png', './imagenes/S111_001_00000012.png', './imagenes/S088_004_00000020.png', './imagenes/S111_006_00000009.png', './imagenes/S132_006_00000021.png', './imagenes/S046_004_00000017.png', './imagenes/S107_001_00000009.png', './imagenes/S065_005_00000006.png', './imagenes/S111_006_00000008.png', './imagenes/S116_001_00000014.png', './imagenes/S124_003_00000011.png', './imagenes/S107_005_00000009.png', './imagenes/S117_003_00000014.png', './imagenes/S028_001_00000024.png', './imagenes/S099_004_00000013.png', './imagenes/S124_006_00000010.png', './imagenes/S078_007_00000012.png', './imagenes/S064_003_00000024.png', './imagenes/S091_003_00000021.png', './imagenes/S060_005_00000020.png', './imagenes/S501_001_00000067.png', './imagenes/S061_001_00000011.png', './imagenes/S124_006_00000009.png', './imagenes/S094_004_00000012.png', './imagenes/S503_006_00000019.png', './imagenes/S096_004_00000011.png', './imagenes/S053_004_00000024.png', './imagenes/S097_006_00000019.png', './imagenes/S131_001_00000014.png', './imagenes/S050_004_00000021.png', './imagenes/S065_003_00000020.png', './imagenes/S092_001_00000016.png', './imagenes/S999_003_00000055.png', './imagenes/S073_001_00000011.png', './imagenes/S149_002_00000012.png', './imagenes/S064_004_00000014.png', './imagenes/S084_001_00000008.png', './imagenes/S079_001_00000010.png', './imagenes/S119_003_00000024.png', './imagenes/S076_006_00000017.png', './imagenes/S060_003_00000017.png', './imagenes/S042_004_00000018.png', './imagenes/S067_005_00000022.png', './imagenes/S125_001_00000012.png', './imagenes/S050_006_00000022.png', './imagenes/S069_003_00000010.png', './imagenes/S026_006_00000012.png', './imagenes/S062_001_00000016.png', './imagenes/S091_001_00000013.png', './imagenes/S502_004_00000052.png', './imagenes/S010_002_00000013.png', './imagenes/S074_005_00000043.png', './imagenes/S065_004_00000027.png', './imagenes/S999_003_00000054.png', './imagenes/S005_001_00000010.png', './imagenes/S097_001_00000020.png', './imagenes/S155_002_00000012.png', './imagenes/S502_002_00000007.png', './imagenes/S081_008_00000010.png', './imagenes/S059_002_00000015.png', './imagenes/S081_002_00000024.png', './imagenes/S085_002_00000013.png', './imagenes/S076_005_00000012.png', './imagenes/S052_004_00000031.png', './imagenes/S074_002_00000014.png', './imagenes/S026_001_00000015.png', './imagenes/S131_010_00000016.png', './imagenes/S109_006_00000014.png', './imagenes/S054_003_00000005.png', './imagenes/S131_003_00000024.png', './imagenes/S052_006_00000011.png', './imagenes/S056_004_00000019.png', './imagenes/S071_005_00000019.png', './imagenes/S138_005_00000015.png', './imagenes/S505_002_00000019.png', './imagenes/S501_001_00000066.png', './imagenes/S133_003_00000045.png', './imagenes/S042_002_00000016.png', './imagenes/S066_005_00000011.png', './imagenes/S050_006_00000023.png', './imagenes/S132_003_00000021.png', './imagenes/S107_001_00000008.png', './imagenes/S050_002_00000017.png', './imagenes/S042_006_00000017.png', './imagenes/S501_006_00000040.png', './imagenes/S130_012_00000010.png', './imagenes/S066_003_00000011.png', './imagenes/S062_001_00000015.png', './imagenes/S102_002_00000018.png', './imagenes/S064_001_00000012.png', './imagenes/S067_004_00000022.png', './imagenes/S504_006_00000017.png', './imagenes/S026_006_00000013.png', './imagenes/S139_002_00000013.png', './imagenes/S138_001_00000012.png', './imagenes/S077_001_00000027.png', './imagenes/S005_001_00000011.png', './imagenes/S504_001_00000022.png', './imagenes/S124_001_00000012.png', './imagenes/S083_003_00000019.png', './imagenes/S115_001_00000008.png', './imagenes/S050_001_00000015.png', './imagenes/S067_002_00000014.png', './imagenes/S060_002_00000024.png', './imagenes/S085_002_00000014.png', './imagenes/S080_001_00000017.png', './imagenes/S112_005_00000017.png', './imagenes/S116_007_00000016.png', './imagenes/S504_001_00000020.png', './imagenes/S136_006_00000019.png', './imagenes/S050_002_00000018.png', './imagenes/S068_004_00000009.png', './imagenes/S061_004_00000020.png', './imagenes/S138_005_00000016.png', './imagenes/S138_001_00000010.png', './imagenes/S090_007_00000012.png', './imagenes/S504_006_00000016.png', './imagenes/S083_003_00000018.png', './imagenes/S115_008_00000015.png', './imagenes/S154_002_00000011.png', './imagenes/S119_001_00000011.png', './imagenes/S086_002_00000015.png', './imagenes/S109_003_00000017.png', './imagenes/S059_001_00000018.png', './imagenes/S087_001_00000011.png', './imagenes/S011_005_00000020.png', './imagenes/S044_006_00000018.png', './imagenes/S098_003_00000011.png', './imagenes/S070_003_00000017.png', './imagenes/S128_011_00000014.png', './imagenes/S128_004_00000012.png', './imagenes/S044_001_00000024.png', './imagenes/S079_004_00000026.png', './imagenes/S504_002_00000008.png', './imagenes/S082_005_00000015.png', './imagenes/S113_008_00000023.png', './imagenes/S127_004_00000016.png', './imagenes/S102_003_00000016.png', './imagenes/S032_005_00000015.png', './imagenes/S137_001_00000014.png', './imagenes/S061_002_00000015.png', './imagenes/S138_007_00000009.png', './imagenes/S056_002_00000009.png', './imagenes/S044_003_00000012.png', './imagenes/S147_002_00000013.png', './imagenes/S026_001_00000013.png', './imagenes/S067_005_00000021.png', './imagenes/S046_002_00000004.png', './imagenes/S074_002_00000015.png', './imagenes/S115_004_00000015.png', './imagenes/S026_002_00000016.png', './imagenes/S090_002_00000011.png', './imagenes/S135_001_00000037.png', './imagenes/S138_008_00000007.png', './imagenes/S137_011_00000019.png', './imagenes/S084_001_00000010.png', './imagenes/S071_001_00000012.png', './imagenes/S125_006_00000021.png', './imagenes/S131_006_00000021.png', './imagenes/S078_001_00000033.png', './imagenes/S010_002_00000014.png', './imagenes/S127_010_00000017.png', './imagenes/S128_011_00000015.png', './imagenes/S026_003_00000015.png', './imagenes/S034_003_00000025.png', './imagenes/S068_003_00000013.png', './imagenes/S060_003_00000016.png', './imagenes/S076_005_00000011.png', './imagenes/S136_006_00000020.png', './imagenes/S068_002_00000015.png', './imagenes/S068_004_00000008.png', './imagenes/S014_005_00000016.png', './imagenes/S051_003_00000018.png', './imagenes/S124_007_00000024.png', './imagenes/S072_005_00000017.png', './imagenes/S057_003_00000014.png', './imagenes/S115_004_00000017.png', './imagenes/S133_010_00000013.png', './imagenes/S070_002_00000014.png', './imagenes/S116_001_00000012.png', './imagenes/S074_002_00000016.png', './imagenes/S506_002_00000009.png', './imagenes/S124_003_00000009.png', './imagenes/S158_002_00000010.png', './imagenes/S065_002_00000022.png', './imagenes/S097_006_00000017.png', './imagenes/S058_001_00000019.png', './imagenes/S065_002_00000020.png', './imagenes/S034_001_00000027.png', './imagenes/S054_003_00000006.png', './imagenes/S114_001_00000016.png', './imagenes/S026_003_00000014.png', './imagenes/S058_005_00000008.png', './imagenes/S046_003_00000016.png', './imagenes/S125_001_00000014.png', './imagenes/S149_002_00000011.png', './imagenes/S014_001_00000028.png', './imagenes/S088_001_00000016.png', './imagenes/S129_006_00000009.png', './imagenes/S095_001_00000015.png', './imagenes/S135_012_00000018.png', './imagenes/S079_004_00000024.png', './imagenes/S070_003_00000016.png', './imagenes/S077_006_00000012.png', './imagenes/S129_002_00000009.png', './imagenes/S503_001_00000071.png', './imagenes/S064_001_00000010.png', './imagenes/S028_001_00000023.png', './imagenes/S156_002_00000020.png', './imagenes/S129_012_00000010.png', './imagenes/S082_005_00000016.png', './imagenes/S128_004_00000013.png', './imagenes/S022_001_00000028.png', './imagenes/S063_001_00000013.png', './imagenes/S089_001_00000016.png', './imagenes/S115_001_00000007.png', './imagenes/S113_003_00000015.png', './imagenes/S054_004_00000023.png', './imagenes/S069_002_00000013.png', './imagenes/S026_001_00000014.png', './imagenes/S037_003_00000021.png', './imagenes/S125_007_00000008.png', './imagenes/S102_009_00000013.png', './imagenes/S106_006_00000011.png', './imagenes/S093_004_00000016.png', './imagenes/S133_010_00000014.png', './imagenes/S116_006_00000005.png', './imagenes/S108_006_00000018.png', './imagenes/S065_003_00000021.png', './imagenes/S051_003_00000017.png', './imagenes/S137_001_00000012.png']\n"
          ]
        }
      ],
      "source": [
        "rutas_imagenes = glob.glob(f'./imagenes/*.png', recursive=True)\n",
        "print(rutas_imagenes)"
      ]
    },
    {
      "cell_type": "markdown",
      "metadata": {
        "id": "Uz_mg-ONQeeA"
      },
      "source": [
        "## Funcion para obtener caraccteristicos"
      ]
    },
    {
      "cell_type": "code",
      "execution_count": 5,
      "metadata": {
        "id": "UkrPmcETBJO8"
      },
      "outputs": [],
      "source": [
        "def obtener_caracteristico(ruta: str, cortes: int=1) -> np.ndarray:\n",
        "  imagen = imread(ruta)\n",
        "  cA = imagen\n",
        "  cH =  cV = cD = None\n",
        "  for _ in range(cortes):\n",
        "     cA, (cH, cV, cD) = pywt.dwt2(cA, 'haar')\n",
        "  return cA"
      ]
    },
    {
      "cell_type": "markdown",
      "metadata": {
        "id": "1ZH4p7VzPc9z"
      },
      "source": [
        "## Generar \"matrices\" caracteristicas"
      ]
    },
    {
      "cell_type": "code",
      "execution_count": 6,
      "metadata": {
        "id": "k2XTUHrlJcLw"
      },
      "outputs": [
        {
          "name": "stderr",
          "output_type": "stream",
          "text": [
            "100%|██████████| 981/981 [00:00<00:00, 2977.84it/s]\n",
            "100%|██████████| 981/981 [00:00<00:00, 3686.78it/s]\n",
            "100%|██████████| 981/981 [00:00<00:00, 2915.20it/s]\n",
            "100%|██████████| 981/981 [00:00<00:00, 2643.63it/s]\n",
            "100%|██████████| 981/981 [00:00<00:00, 2296.43it/s]\n"
          ]
        }
      ],
      "source": [
        "# lista de matrices con vectores caracteristicos obtenidos tras aplicar C cortes\n",
        "caracteristicos = []\n",
        "\n",
        "for cortes in range(5):\n",
        "  temporal_caracteristicos = [] \n",
        "  for ruta_imagen in tqdm(rutas_imagenes):\n",
        "    temporal_caracteristicos.append(obtener_caracteristico(ruta_imagen, cortes))\n",
        "  caracteristicos.append(np.array(temporal_caracteristicos))"
      ]
    },
    {
      "cell_type": "markdown",
      "metadata": {
        "id": "YihiL2iURXF2"
      },
      "source": [
        "# Guardar variables \n",
        "Comentado para no sobreescribir"
      ]
    },
    {
      "cell_type": "markdown",
      "metadata": {
        "id": "AcQf0fMEPZpr"
      },
      "source": [
        "## Guardar matrices en archivos"
      ]
    },
    {
      "cell_type": "code",
      "execution_count": 3,
      "metadata": {
        "id": "IJNE0bxSLKbs"
      },
      "outputs": [],
      "source": [
        "ruta_drive = './matrices_imagenes/'\n",
        "\n",
        "for n_cortes in range(len(caracteristicos)):\n",
        "  with open(ruta_drive+f'caracteristicos{n_cortes}.npy', 'wb') as f:\n",
        "    np.save(f, caracteristicos[n_cortes])"
      ]
    },
    {
      "cell_type": "markdown",
      "metadata": {
        "id": "-g5jeCvMPgv7"
      },
      "source": [
        "## Guardar orden de rutas"
      ]
    },
    {
      "cell_type": "code",
      "execution_count": 11,
      "metadata": {
        "id": "ksAP1VfiO-Ig"
      },
      "outputs": [],
      "source": [
        "with open(ruta_drive+'orden_rutas.json', 'w') as f:\n",
        "  json.dump(rutas_imagenes, f)"
      ]
    },
    {
      "cell_type": "markdown",
      "metadata": {
        "id": "_1V8oGzSRg1m"
      },
      "source": [
        "# Leer archivos \n",
        "De las variables guardadas"
      ]
    },
    {
      "cell_type": "markdown",
      "metadata": {
        "id": "wI5gfBvWQYM7"
      },
      "source": [
        "## Leer rutas"
      ]
    },
    {
      "cell_type": "code",
      "execution_count": 12,
      "metadata": {
        "id": "QvI7eRMbQXm-"
      },
      "outputs": [],
      "source": [
        "rutas_imagenes = {}\n",
        "with open(ruta_drive + 'orden_rutas.json', 'r') as f:\n",
        "    rutas_imagenes = json.load(f) # Agregar la variable que tendrá el json"
      ]
    },
    {
      "cell_type": "markdown",
      "metadata": {
        "id": "pAKKsl96Q83v"
      },
      "source": [
        "## Leer matrices caracteristicas"
      ]
    },
    {
      "cell_type": "code",
      "execution_count": 13,
      "metadata": {
        "id": "UY93JyXqQ_N7"
      },
      "outputs": [],
      "source": [
        "caracteristicos = []\n",
        "for n_cortes in range(5):\n",
        "  with open(ruta_drive + f'caracteristicos{n_cortes}.npy', 'rb') as f:\n",
        "    caracteristicos.append(np.load(f)) # Agregar las variables donde se almacenarán"
      ]
    },
    {
      "cell_type": "markdown",
      "metadata": {
        "id": "IWh2eUyGzx3L"
      },
      "source": [
        "# Reducción de dimensiones"
      ]
    },
    {
      "cell_type": "code",
      "execution_count": 15,
      "metadata": {
        "id": "s-cYvfdHz0Bc"
      },
      "outputs": [],
      "source": [
        "linearizar_caracteristicos = caracteristicos.copy()\n",
        "for c in range(len(linearizar_caracteristicos)):\n",
        "  linearizar_caracteristicos[c] = caracteristicos[c].reshape(caracteristicos[c].shape[0], caracteristicos[c].shape[1]*caracteristicos[c].shape[2])"
      ]
    },
    {
      "cell_type": "markdown",
      "metadata": {
        "id": "WMqBK7a58N-e"
      },
      "source": [
        " Obtener los vectores transformados quenos representan $r$ de representatividad de los datos totales"
      ]
    },
    {
      "cell_type": "code",
      "execution_count": 16,
      "metadata": {
        "colab": {
          "base_uri": "https://localhost:8080/"
        },
        "id": "hq_XMqBs399Z",
        "outputId": "7449f382-f73d-4353-a9f6-a5a4fbd85181"
      },
      "outputs": [
        {
          "name": "stdout",
          "output_type": "stream",
          "text": [
            "representatividad: 0.9, cortes: 0, componentes: 981, componentes_optimas: 47\n",
            "representatividad: 0.9, cortes: 1, componentes: 576, componentes_optimas: 32\n",
            "representatividad: 0.9, cortes: 2, componentes: 144, componentes_optimas: 17\n",
            "representatividad: 0.9, cortes: 3, componentes: 36, componentes_optimas: 7\n",
            "representatividad: 0.9, cortes: 4, componentes: 9, componentes_optimas: 3\n",
            "representatividad: 0.95, cortes: 0, componentes: 981, componentes_optimas: 91\n",
            "representatividad: 0.95, cortes: 1, componentes: 576, componentes_optimas: 59\n",
            "representatividad: 0.95, cortes: 2, componentes: 144, componentes_optimas: 30\n",
            "representatividad: 0.95, cortes: 3, componentes: 36, componentes_optimas: 12\n",
            "representatividad: 0.95, cortes: 4, componentes: 9, componentes_optimas: 5\n",
            "representatividad: 0.99, cortes: 0, componentes: 981, componentes_optimas: 231\n",
            "representatividad: 0.99, cortes: 1, componentes: 576, componentes_optimas: 150\n",
            "representatividad: 0.99, cortes: 2, componentes: 144, componentes_optimas: 67\n",
            "representatividad: 0.99, cortes: 3, componentes: 36, componentes_optimas: 23\n",
            "representatividad: 0.99, cortes: 4, componentes: 9, componentes_optimas: 8\n"
          ]
        }
      ],
      "source": [
        "from sklearn.decomposition import PCA\n",
        "pca = None\n",
        "repr = [0.9, 0.95, 0.99]\n",
        "for r in repr:\n",
        "  for cortes in range(len(linearizar_caracteristicos)):\n",
        "    for comps in range(1, min(linearizar_caracteristicos[cortes].shape[0], linearizar_caracteristicos[cortes].shape[1])):\n",
        "      pca = PCA(n_components=comps, svd_solver='arpack').fit(linearizar_caracteristicos[cortes])\n",
        "      if np.sum(pca.explained_variance_ratio_) > r:\n",
        "        print(f'representatividad: {r}, cortes: {cortes}, componentes: {min(linearizar_caracteristicos[cortes].shape[0], linearizar_caracteristicos[cortes].shape[1])}, componentes_optimas: {comps}')\n",
        "        with open(ruta_drive+f'caracteristicos{cortes}_pca{r}.npy', 'wb') as f:\n",
        "          np.save(f, pca.transform(linearizar_caracteristicos[cortes]))\n",
        "        break"
      ]
    },
    {
      "cell_type": "markdown",
      "metadata": {
        "id": "SzAOrvd7XbnS"
      },
      "source": [
        "# Leer archivos PCA"
      ]
    },
    {
      "cell_type": "code",
      "execution_count": 4,
      "metadata": {
        "id": "w7FNLOm-XeSG"
      },
      "outputs": [],
      "source": [
        "rutas_pca = glob.glob(ruta_drive + \"*.npy\")\n",
        "diccionario_pca = {}\n",
        "for ruta in rutas_pca:\n",
        "  if len(ruta.split('_')) > 1:\n",
        "    diccionario_pca[os.path.splitext(os.path.basename(ruta))[0]] = np.load(ruta)"
      ]
    },
    {
      "cell_type": "code",
      "execution_count": 5,
      "metadata": {
        "colab": {
          "base_uri": "https://localhost:8080/"
        },
        "id": "kh_QjcpXaZms",
        "outputId": "b0e5e2ac-fb9a-4321-eca6-f4318c6b70be"
      },
      "outputs": [
        {
          "data": {
            "text/plain": [
              "dict_keys(['caracteristicos0_pca0.9', 'caracteristicos4_pca0.99', 'caracteristicos3_pca0.95', 'caracteristicos1_pca0.99', 'caracteristicos0', 'caracteristicos2', 'caracteristicos3', 'caracteristicos1_pca0.9', 'caracteristicos2_pca0.99', 'caracteristicos4', 'caracteristicos1_pca0.95', 'caracteristicos3_pca0.99', 'caracteristicos0_pca0.95', 'caracteristicos1', 'caracteristicos4_pca0.95', 'caracteristicos2_pca0.9', 'caracteristicos0_pca0.99', 'caracteristicos4_pca0.9', 'caracteristicos2_pca0.95', 'caracteristicos3_pca0.9'])"
            ]
          },
          "execution_count": 5,
          "metadata": {},
          "output_type": "execute_result"
        }
      ],
      "source": [
        "diccionario_pca.keys()"
      ]
    }
  ],
  "metadata": {
    "colab": {
      "collapsed_sections": [
        "F4IHKceszqol",
        "H9I2oT19QaJ4",
        "Uz_mg-ONQeeA",
        "1ZH4p7VzPc9z",
        "YihiL2iURXF2",
        "AcQf0fMEPZpr",
        "-g5jeCvMPgv7"
      ],
      "provenance": []
    },
    "kernelspec": {
      "display_name": "Python 3",
      "name": "python3"
    },
    "language_info": {
      "codemirror_mode": {
        "name": "ipython",
        "version": 3
      },
      "file_extension": ".py",
      "mimetype": "text/x-python",
      "name": "python",
      "nbconvert_exporter": "python",
      "pygments_lexer": "ipython3",
      "version": "3.10.6"
    }
  },
  "nbformat": 4,
  "nbformat_minor": 0
}
